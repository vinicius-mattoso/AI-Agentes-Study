{
 "cells": [
  {
   "cell_type": "markdown",
   "id": "2065b917",
   "metadata": {},
   "source": [
    "# 01 - Introdução aos Agentes de IA 🤖\n",
    "\n",
    "Este notebook faz parte do repositório **agents-study**, com o objetivo de aprender passo a passo como funcionam agentes de IA, desde o mais simples (sem memória) até os mais complexos (com objetivos, modelos internos e memória).\n",
    "\n",
    "---\n",
    "\n",
    "## ✏️ O que é um agente?\n",
    "\n",
    "Um **agente** é um sistema que:\n",
    "1. **Percebe** o ambiente.\n",
    "2. **Toma decisões** com base nessa percepção.\n",
    "3. **Executa ações** para atingir um objetivo ou reagir ao ambiente.\n",
    "\n",
    "Essa é a definição mais simples que encontramos no clássico livro de Russell e Norvig:\n",
    "\n",
    "> \"Um agente é qualquer coisa que possa perceber seu ambiente através de sensores e agir sobre esse ambiente através de atuadores.\"\n",
    "\n",
    "---\n",
    "\n",
    "## 🎯 Por que estudar agentes?\n",
    "\n",
    "- São a base de muitos sistemas inteligentes: robôs, assistentes virtuais, jogos e até sistemas de recomendação.\n",
    "- Nos ajudam a entender como projetar **comportamentos inteligentes** e **adaptativos**.\n",
    "\n",
    "---\n",
    "\n",
    "## 🟢 Tipos de agentes (Russell e Norvig)\n",
    "\n",
    "| Tipo                            | Descrição                                                             |\n",
    "|---------------------------------|-----------------------------------------------------------------------|\n",
    "| **Reflexivo simples**           | Reage diretamente à percepção atual, sem memória                      |\n",
    "| **Baseado em modelo**           | Usa uma representação interna do ambiente (modelo)                     |\n",
    "| **Baseado em objetivos**        | Tem metas e busca atingi-las                                           |\n",
    "| **Baseado em utilidade**        | Busca maximizar um valor de utilidade                                  |\n",
    "| **Agente de aprendizado**       | Melhora seu desempenho ao longo do tempo                               |\n",
    "\n",
    "---\n",
    "\n",
    "## 📌 Exemplos reais de agentes\n",
    "\n",
    "✅ **Aspirador robô**: percebe sujeira e obstáculos, decide onde ir.\n",
    "\n",
    "✅ **Chatbot**: percebe suas mensagens e responde com base em regras ou aprendizado.\n",
    "\n",
    "✅ **Carro autônomo**: percebe a estrada, decide como dirigir.\n",
    "\n",
    "✅ **Sistemas de recomendação**: percebem seu comportamento e ajustam sugestões.\n",
    "\n",
    "---\n",
    "\n",
    "## 📚 Leituras adicionais recomendadas\n",
    "\n",
    "- **Livro:** Russell e Norvig - *Artificial Intelligence: A Modern Approach*  \n",
    "- **Paper:** Franklin & Graesser (1997) - *Is it an Agent, or just a Program?*  \n",
    "- **Livro:** Michael Wooldridge - *An Introduction to MultiAgent Systems*\n",
    "\n",
    "---\n",
    "\n",
    "## 💻 Código: um esqueleto de agente\n",
    "\n",
    "Vamos ver um **modelo mínimo** de um agente reflexivo simples (sem memória) para te dar \n",
    "uma ideia inicial:\n",
    "\n"
   ]
  },
  {
   "cell_type": "code",
   "execution_count": 1,
   "id": "7dbcd547",
   "metadata": {},
   "outputs": [],
   "source": [
    "class AgenteReflexivoSimples:\n",
    "    def __init__(self):\n",
    "        pass  # sem memória ou estado interno\n",
    "\n",
    "    def agir(self, percepcao):\n",
    "        if percepcao == \"obstaculo\":\n",
    "            return \"desviar\"\n",
    "        else:\n",
    "            return \"andar\""
   ]
  },
  {
   "cell_type": "code",
   "execution_count": 2,
   "id": "4d5e9390",
   "metadata": {},
   "outputs": [
    {
     "name": "stdout",
     "output_type": "stream",
     "text": [
      "andar\n",
      "desviar\n"
     ]
    }
   ],
   "source": [
    "# Exemplo de uso\n",
    "agente = AgenteReflexivoSimples()\n",
    "print(agente.agir(\"livre\"))       # Output: andar\n",
    "print(agente.agir(\"obstaculo\"))   # Output: desviar"
   ]
  },
  {
   "cell_type": "code",
   "execution_count": null,
   "id": "1d0e4cdf",
   "metadata": {},
   "outputs": [],
   "source": []
  }
 ],
 "metadata": {
  "kernelspec": {
   "display_name": "Python 3",
   "language": "python",
   "name": "python3"
  },
  "language_info": {
   "codemirror_mode": {
    "name": "ipython",
    "version": 3
   },
   "file_extension": ".py",
   "mimetype": "text/x-python",
   "name": "python",
   "nbconvert_exporter": "python",
   "pygments_lexer": "ipython3",
   "version": "3.10.11"
  }
 },
 "nbformat": 4,
 "nbformat_minor": 5
}
