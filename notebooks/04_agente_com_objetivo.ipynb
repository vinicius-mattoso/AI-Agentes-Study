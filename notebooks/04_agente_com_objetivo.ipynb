{
 "cells": [
  {
   "cell_type": "markdown",
   "id": "a5d072db",
   "metadata": {},
   "source": [
    "# 0.4 - Agente com Objetivo 🎯\n",
    "\n",
    "Este notebook faz parte do repositório **agents-study**.  \n",
    "Aqui, vamos ver como construir um agente que não apenas reage ao ambiente, mas tem **um objetivo claro** e toma decisões para atingi-lo.\n",
    "\n",
    "---\n",
    "\n",
    "## ✏️ O que é um agente com objetivo?\n",
    "\n",
    "Um **agente com objetivo**:\n",
    "✅ Tem uma **meta** explícita (ex.: \"encontrar sujeira e limpar\").  \n",
    "✅ Escolhe ações que o aproximem desse objetivo.  \n",
    "✅ Ainda pode ser simples – sem aprendizado ou memória de longo prazo!\n",
    "\n",
    "---\n",
    "\n",
    "## 💡 Exemplo: aspirador inteligente\n",
    "\n",
    "**Objetivo:** manter o ambiente limpo.  \n",
    "**Percepções:** sujeira, obstáculos, caminho livre.  \n",
    "**Ações:** andar, desviar, aspirar.\n",
    "\n",
    "O agente vai decidir **qual ação realizar** com base em qual aproxima mais o objetivo.\n",
    "\n",
    "---\n",
    "\n",
    "## 💻 Implementação básica em Python\n",
    "\n",
    "```python\n"
   ]
  },
  {
   "cell_type": "code",
   "execution_count": 1,
   "id": "95f6ecfe",
   "metadata": {},
   "outputs": [
    {
     "name": "stdout",
     "output_type": "stream",
     "text": [
      "Ação: girar-esquerda\n"
     ]
    }
   ],
   "source": [
    "class AgenteComObjetivo:\n",
    "    def __init__(self, objetivo=\"limpar\"):\n",
    "        self.objetivo = objetivo\n",
    "\n",
    "    def agir(self, percepcao):\n",
    "        \"\"\"\n",
    "        percepcao: dicionário com o estado atual do ambiente.\n",
    "        Exemplo:\n",
    "        {\n",
    "            \"frente\": \"livre\",\n",
    "            \"esquerda\": \"livre\",\n",
    "            \"direita\": \"sujeira\"\n",
    "        }\n",
    "        \"\"\"\n",
    "        if self.objetivo == \"limpar\":\n",
    "            if percepcao[\"frente\"] == \"sujeira\":\n",
    "                return \"aspirar\"\n",
    "            elif percepcao[\"direita\"] == \"sujeira\":\n",
    "                return \"girar-direita\"\n",
    "            elif percepcao[\"esquerda\"] == \"sujeira\":\n",
    "                return \"girar-esquerda\"\n",
    "            elif percepcao[\"frente\"] == \"livre\":\n",
    "                return \"andar\"\n",
    "            else:\n",
    "                return \"desviar\"\n",
    "        else:\n",
    "            return \"esperar\"  # Objetivo desconhecido\n",
    "\n",
    "# Teste\n",
    "agente = AgenteComObjetivo()\n",
    "percepcao = {\"frente\": \"livre\", \"esquerda\": \"sujeira\", \"direita\": \"livre\"}\n",
    "print(\"Ação:\", agente.agir(percepcao))\n"
   ]
  },
  {
   "cell_type": "markdown",
   "id": "e87df0dc",
   "metadata": {},
   "source": [
    "## Simulando um ciclo de percepções"
   ]
  },
  {
   "cell_type": "code",
   "execution_count": 2,
   "id": "3ac5c122",
   "metadata": {},
   "outputs": [
    {
     "name": "stdout",
     "output_type": "stream",
     "text": [
      "Passo 1: percepção={'frente': 'livre', 'esquerda': 'livre', 'direita': 'livre'} => ação=andar\n",
      "Passo 2: percepção={'frente': 'sujeira', 'esquerda': 'livre', 'direita': 'livre'} => ação=aspirar\n",
      "Passo 3: percepção={'frente': 'obstaculo', 'esquerda': 'livre', 'direita': 'sujeira'} => ação=girar-direita\n",
      "Passo 4: percepção={'frente': 'livre', 'esquerda': 'sujeira', 'direita': 'livre'} => ação=girar-esquerda\n"
     ]
    }
   ],
   "source": [
    "# Simulando vários passos\n",
    "percepcoes = [\n",
    "    {\"frente\": \"livre\", \"esquerda\": \"livre\", \"direita\": \"livre\"},\n",
    "    {\"frente\": \"sujeira\", \"esquerda\": \"livre\", \"direita\": \"livre\"},\n",
    "    {\"frente\": \"obstaculo\", \"esquerda\": \"livre\", \"direita\": \"sujeira\"},\n",
    "    {\"frente\": \"livre\", \"esquerda\": \"sujeira\", \"direita\": \"livre\"},\n",
    "]\n",
    "\n",
    "for i, p in enumerate(percepcoes):\n",
    "    acao = agente.agir(p)\n",
    "    print(f\"Passo {i+1}: percepção={p} => ação={acao}\")"
   ]
  },
  {
   "cell_type": "markdown",
   "id": "ff48ff4b",
   "metadata": {},
   "source": [
    "#### ⚡️ Reflexão: agentes com objetivo são mais “inteligentes”!\n",
    "\n",
    "✅ Eles têm um propósito e priorizam ações que maximizam esse objetivo.\n",
    "\n",
    "✅ Ainda não têm memória ou aprendizado, mas já são muito melhores que agentes reflexivos puros.\n",
    "\n"
   ]
  }
 ],
 "metadata": {
  "kernelspec": {
   "display_name": ".venv",
   "language": "python",
   "name": "python3"
  },
  "language_info": {
   "codemirror_mode": {
    "name": "ipython",
    "version": 3
   },
   "file_extension": ".py",
   "mimetype": "text/x-python",
   "name": "python",
   "nbconvert_exporter": "python",
   "pygments_lexer": "ipython3",
   "version": "3.10.11"
  }
 },
 "nbformat": 4,
 "nbformat_minor": 5
}
