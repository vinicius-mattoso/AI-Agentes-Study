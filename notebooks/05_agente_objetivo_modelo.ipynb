{
 "cells": [
  {
   "cell_type": "markdown",
   "id": "0e74fccf",
   "metadata": {},
   "source": [
    "# 05 - Agente com Objetivo e Modelo Interno usando LLM 🤖🎯\n",
    "\n",
    "Neste notebook, vamos criar um **agente com objetivo** que:\n",
    "\n",
    "✅ Tem um objetivo explícito (ex.: limpar sujeira).  \n",
    "✅ Usa um **modelo interno** baseado em um **LLM (Large Language Model)** para interpretar o ambiente e decidir a ação.  \n",
    "✅ Não guarda histórico de passos anteriores (sem memória de longo prazo ainda!).\n",
    "\n",
    "---\n",
    "\n",
    "## 📦 Preparação do ambiente\n",
    "\n",
    "Para rodar este notebook, certifique-se de ter instalado:\n",
    "\n",
    "```bash\n",
    "pip install torch transformers\n"
   ]
  },
  {
   "cell_type": "code",
   "execution_count": 1,
   "id": "6f9aa88f",
   "metadata": {},
   "outputs": [
    {
     "name": "stdout",
     "output_type": "stream",
     "text": [
      "2.7.0+cpu\n"
     ]
    }
   ],
   "source": [
    "import torch\n",
    "print(torch.__version__)"
   ]
  },
  {
   "cell_type": "markdown",
   "id": "de64128d",
   "metadata": {},
   "source": [
    "### Exemplo prático\n",
    "\n",
    "Imagine um aspirador robô:\n",
    "\n",
    "Objetivo: limpar toda a sujeira.\n",
    "\n",
    "Modelo interno: um LLM que interpreta a descrição do ambiente.\n",
    "\n",
    "Ação: o LLM gera a ação mais adequada."
   ]
  },
  {
   "cell_type": "code",
   "execution_count": 2,
   "id": "306f90c4",
   "metadata": {},
   "outputs": [
    {
     "name": "stderr",
     "output_type": "stream",
     "text": [
      "c:\\Users\\vinicius\\Documents\\Projetos\\AI-Agentes-Study\\.venv\\lib\\site-packages\\tqdm\\auto.py:21: TqdmWarning: IProgress not found. Please update jupyter and ipywidgets. See https://ipywidgets.readthedocs.io/en/stable/user_install.html\n",
      "  from .autonotebook import tqdm as notebook_tqdm\n",
      "Device set to use cpu\n"
     ]
    }
   ],
   "source": [
    "from transformers import pipeline\n",
    "\n",
    "class AgenteObjetivoModeloLLM:\n",
    "    def __init__(self, objetivo=\"clean\"):\n",
    "        self.objetivo = objetivo\n",
    "        # Usando DistilGPT2 para geração simples de ações\n",
    "        self.gerador = pipeline(\"text-generation\", model=\"distilgpt2\")\n",
    "\n",
    "    def agir(self, modelo_ambiente):\n",
    "        \"\"\"\n",
    "        modelo_ambiente: dicionário descrevendo o ambiente (em inglês!)\n",
    "        Exemplo:\n",
    "            {\n",
    "                \"front\": \"free\",\n",
    "                \"left\": \"dirt\",\n",
    "                \"right\": \"obstacle\"\n",
    "            }\n",
    "        \"\"\"\n",
    "        # Descreve o ambiente em linguagem natural\n",
    "        descricao = f\"Environment state: front={modelo_ambiente['front']}, left={modelo_ambiente['left']}, right={modelo_ambiente['right']}.\"\n",
    "\n",
    "        # Prompt para o LLM\n",
    "        prompt = (\n",
    "            f\"You are a cleaning robot. Your goal is to {self.objetivo} the dirt.\\n\"\n",
    "            f\"{descricao}\\n\"\n",
    "            f\"What action should you take? Respond with a single word action.\"\n",
    "        )\n",
    "\n",
    "        resposta = self.gerador(\n",
    "            prompt,\n",
    "            max_new_tokens=20,\n",
    "            truncation=True,\n",
    "            num_return_sequences=1\n",
    "        )[0][\"generated_text\"]\n",
    "\n",
    "        return resposta.strip()\n",
    "\n",
    "# Instanciando o agente\n",
    "agente = AgenteObjetivoModeloLLM()\n"
   ]
  },
  {
   "cell_type": "markdown",
   "id": "f34e34ef",
   "metadata": {},
   "source": [
    "### Testando o agente com exemplos de ambiente"
   ]
  },
  {
   "cell_type": "code",
   "execution_count": 3,
   "id": "49f6cb5c",
   "metadata": {},
   "outputs": [
    {
     "name": "stderr",
     "output_type": "stream",
     "text": [
      "Setting `pad_token_id` to `eos_token_id`:50256 for open-end generation.\n",
      "Setting `pad_token_id` to `eos_token_id`:50256 for open-end generation.\n"
     ]
    },
    {
     "name": "stdout",
     "output_type": "stream",
     "text": [
      "@@@@@@@@@@@@@@@@@@@@\n",
      "Step 1: Environment={'front': 'free', 'left': 'dirt', 'right': 'obstacle'} => Action=You are a cleaning robot. Your goal is to clean the dirt.\n",
      "Environment state: front=free, left=dirt, right=obstacle.\n",
      "What action should you take? Respond with a single word action. Use your voice to speak.\n",
      "If you want to make a more informed decision, click here.\n",
      "\n"
     ]
    },
    {
     "name": "stderr",
     "output_type": "stream",
     "text": [
      "Setting `pad_token_id` to `eos_token_id`:50256 for open-end generation.\n"
     ]
    },
    {
     "name": "stdout",
     "output_type": "stream",
     "text": [
      "@@@@@@@@@@@@@@@@@@@@\n",
      "Step 2: Environment={'front': 'dirt', 'left': 'free', 'right': 'free'} => Action=You are a cleaning robot. Your goal is to clean the dirt.\n",
      "Environment state: front=dirt, left=free, right=free.\n",
      "What action should you take? Respond with a single word action. If you are unsure, you can ask our Customer Service team to provide a brief description of what to\n",
      "\n"
     ]
    },
    {
     "name": "stderr",
     "output_type": "stream",
     "text": [
      "Setting `pad_token_id` to `eos_token_id`:50256 for open-end generation.\n"
     ]
    },
    {
     "name": "stdout",
     "output_type": "stream",
     "text": [
      "@@@@@@@@@@@@@@@@@@@@\n",
      "Step 3: Environment={'front': 'obstacle', 'left': 'dirt', 'right': 'free'} => Action=You are a cleaning robot. Your goal is to clean the dirt.\n",
      "Environment state: front=obstacle, left=dirt, right=free.\n",
      "What action should you take? Respond with a single word action.\n",
      "Please feel free to share your thoughts and suggestions and ideas with other cleaning robots using the comment below\n",
      "\n",
      "@@@@@@@@@@@@@@@@@@@@\n",
      "Step 4: Environment={'front': 'free', 'left': 'free', 'right': 'free'} => Action=You are a cleaning robot. Your goal is to clean the dirt.\n",
      "Environment state: front=free, left=free, right=free.\n",
      "What action should you take? Respond with a single word action.\n",
      "In the main area, you may want to look at a local resident's home.\n",
      "Your\n",
      "\n"
     ]
    }
   ],
   "source": [
    "# Exemplos de modelos internos do ambiente\n",
    "modelos_ambiente = [\n",
    "    {\"front\": \"free\", \"left\": \"dirt\", \"right\": \"obstacle\"},\n",
    "    {\"front\": \"dirt\", \"left\": \"free\", \"right\": \"free\"},\n",
    "    {\"front\": \"obstacle\", \"left\": \"dirt\", \"right\": \"free\"},\n",
    "    {\"front\": \"free\", \"left\": \"free\", \"right\": \"free\"}\n",
    "]\n",
    "\n",
    "# Rodando a simulação\n",
    "for i, modelo in enumerate(modelos_ambiente):\n",
    "    acao = agente.agir(modelo)\n",
    "    print(20*'@')\n",
    "    print(f\"Step {i+1}: Environment={modelo} => Action={acao}\")\n",
    "    print()\n"
   ]
  },
  {
   "cell_type": "code",
   "execution_count": 9,
   "id": "dbd804c4",
   "metadata": {},
   "outputs": [
    {
     "name": "stderr",
     "output_type": "stream",
     "text": [
      "Device set to use cpu\n"
     ]
    }
   ],
   "source": [
    "from transformers import pipeline\n",
    "\n",
    "class AgenteObjetivoModeloClassifier:\n",
    "    def __init__(self, objetivo=\"clean\"):\n",
    "        self.objetivo = objetivo\n",
    "        # Usando DistilBERT treinado para classificação de sentimentos (ótimo em inglês!)\n",
    "        self.classificador = pipeline(\n",
    "            \"text-classification\",\n",
    "            model=\"distilbert-base-uncased-finetuned-sst-2-english\"\n",
    "        )\n",
    "\n",
    "    def agir(self, modelo_ambiente):\n",
    "        \"\"\"\n",
    "        modelo_ambiente: dicionário descrevendo o ambiente (em inglês!)\n",
    "        Exemplo:\n",
    "            {\n",
    "                \"front\": \"free\",\n",
    "                \"left\": \"dirt\",\n",
    "                \"right\": \"obstacle\"\n",
    "            }\n",
    "        \"\"\"\n",
    "        # Descreve o ambiente em linguagem natural\n",
    "        # descricao = (\n",
    "        #     f\"Environment state: front={modelo_ambiente['front']}, \"\n",
    "        #     f\"left={modelo_ambiente['left']}, right={modelo_ambiente['right']}.\"\n",
    "        # )\n",
    "        descricao = (\n",
    "        f\"I feel this environment is: front={modelo_ambiente['front']}, \"\n",
    "        f\"left={modelo_ambiente['left']}, right={modelo_ambiente['right']}.\"\n",
    "    )\n",
    "\n",
    "        # Classificação com o LLM\n",
    "        resultado = self.classificador(descricao)[0]\n",
    "        print(resultado)\n",
    "\n",
    "        # Mapeia a classificação para ação\n",
    "        if resultado[\"label\"] == \"POSITIVE\":\n",
    "            return \"move forward\"\n",
    "        else:\n",
    "            return \"avoid\"\n",
    "\n",
    "# Instanciando o agente\n",
    "agente = AgenteObjetivoModeloClassifier()"
   ]
  },
  {
   "cell_type": "code",
   "execution_count": 10,
   "id": "073e718a",
   "metadata": {},
   "outputs": [
    {
     "name": "stdout",
     "output_type": "stream",
     "text": [
      "{'label': 'NEGATIVE', 'score': 0.9828706979751587}\n",
      "Step 1: Environment={'front': 'free', 'left': 'dirt', 'right': 'obstacle'} => Action=avoid\n",
      "{'label': 'NEGATIVE', 'score': 0.9895250797271729}\n",
      "Step 2: Environment={'front': 'dirt', 'left': 'free', 'right': 'free'} => Action=avoid\n",
      "{'label': 'NEGATIVE', 'score': 0.9656710028648376}\n",
      "Step 3: Environment={'front': 'obstacle', 'left': 'dirt', 'right': 'free'} => Action=avoid\n",
      "{'label': 'NEGATIVE', 'score': 0.9822536110877991}\n",
      "Step 4: Environment={'front': 'free', 'left': 'free', 'right': 'free'} => Action=avoid\n"
     ]
    }
   ],
   "source": [
    "# Exemplos de modelos internos do ambiente\n",
    "modelos_ambiente = [\n",
    "    {\"front\": \"free\", \"left\": \"dirt\", \"right\": \"obstacle\"},\n",
    "    {\"front\": \"dirt\", \"left\": \"free\", \"right\": \"free\"},\n",
    "    {\"front\": \"obstacle\", \"left\": \"dirt\", \"right\": \"free\"},\n",
    "    {\"front\": \"free\", \"left\": \"free\", \"right\": \"free\"}\n",
    "]\n",
    "\n",
    "# Simulação\n",
    "for i, modelo in enumerate(modelos_ambiente):\n",
    "    acao = agente.agir(modelo)\n",
    "    print(f\"Step {i+1}: Environment={modelo} => Action={acao}\")\n"
   ]
  },
  {
   "cell_type": "markdown",
   "id": "87292192",
   "metadata": {},
   "source": []
  },
  {
   "cell_type": "code",
   "execution_count": 1,
   "id": "486117af",
   "metadata": {},
   "outputs": [
    {
     "name": "stdout",
     "output_type": "stream",
     "text": [
      "Step 1: Environment={'front': 'free', 'left': 'dirt', 'right': 'obstacle'} => Action=LEFT\n",
      "Step 2: Environment={'front': 'dirt', 'left': 'free', 'right': 'free'} => Action=Clean\n",
      "Step 3: Environment={'front': 'obstacle', 'left': 'dirt', 'right': 'free'} => Action=Turn\n",
      "Step 4: Environment={'front': 'free', 'left': 'free', 'right': 'free'} => Action=Move forward.\n"
     ]
    }
   ],
   "source": [
    "import os\n",
    "from dotenv import load_dotenv\n",
    "from openai import OpenAI\n",
    "\n",
    "# Carregar variáveis de ambiente\n",
    "load_dotenv()\n",
    "openai_api_key = os.getenv(\"OPENAI_API_KEY\")\n",
    "\n",
    "# Inicializar cliente da OpenAI\n",
    "client = OpenAI(api_key=openai_api_key)\n",
    "\n",
    "class AgenteObjetivoModeloAPI:\n",
    "    def __init__(self, objetivo=\"clean\"):\n",
    "        self.objetivo = objetivo\n",
    "\n",
    "    def agir(self, modelo_ambiente):\n",
    "        \"\"\"\n",
    "        modelo_ambiente: dicionário descrevendo o ambiente (em inglês!)\n",
    "        Exemplo:\n",
    "            {\n",
    "                \"front\": \"free\",\n",
    "                \"left\": \"dirt\",\n",
    "                \"right\": \"obstacle\"\n",
    "            }\n",
    "        \"\"\"\n",
    "        descricao = (\n",
    "            f\"Environment state: front={modelo_ambiente['front']}, \"\n",
    "            f\"left={modelo_ambiente['left']}, right={modelo_ambiente['right']}.\"\n",
    "        )\n",
    "\n",
    "        prompt = (\n",
    "            f\"You are a cleaning robot. Your goal is to {self.objetivo} the dirt.\\n\"\n",
    "            f\"{descricao}\\n\"\n",
    "            f\"What action should you take? Respond with a single word action.\"\n",
    "        )\n",
    "\n",
    "        resposta = client.chat.completions.create(\n",
    "            model=\"gpt-3.5-turbo\",\n",
    "            messages=[\n",
    "                {\n",
    "                    \"role\": \"system\",\n",
    "                    \"content\": \"You are an intelligent cleaning robot.\"\n",
    "                },\n",
    "                {\n",
    "                    \"role\": \"user\",\n",
    "                    \"content\": prompt\n",
    "                }\n",
    "            ]\n",
    "        )\n",
    "\n",
    "        # Pega a resposta final\n",
    "        acao = resposta.choices[0].message.content.strip()\n",
    "        return acao\n",
    "\n",
    "# Teste do agente\n",
    "agente = AgenteObjetivoModeloAPI()\n",
    "\n",
    "modelos_ambiente = [\n",
    "    {\"front\": \"free\", \"left\": \"dirt\", \"right\": \"obstacle\"},\n",
    "    {\"front\": \"dirt\", \"left\": \"free\", \"right\": \"free\"},\n",
    "    {\"front\": \"obstacle\", \"left\": \"dirt\", \"right\": \"free\"},\n",
    "    {\"front\": \"free\", \"left\": \"free\", \"right\": \"free\"}\n",
    "]\n",
    "\n",
    "for i, modelo in enumerate(modelos_ambiente):\n",
    "    acao = agente.agir(modelo)\n",
    "    print(f\"Step {i+1}: Environment={modelo} => Action={acao}\")\n"
   ]
  },
  {
   "cell_type": "code",
   "execution_count": null,
   "id": "378f3224",
   "metadata": {},
   "outputs": [],
   "source": []
  }
 ],
 "metadata": {
  "kernelspec": {
   "display_name": ".venv",
   "language": "python",
   "name": "python3"
  },
  "language_info": {
   "codemirror_mode": {
    "name": "ipython",
    "version": 3
   },
   "file_extension": ".py",
   "mimetype": "text/x-python",
   "name": "python",
   "nbconvert_exporter": "python",
   "pygments_lexer": "ipython3",
   "version": "3.10.11"
  }
 },
 "nbformat": 4,
 "nbformat_minor": 5
}
